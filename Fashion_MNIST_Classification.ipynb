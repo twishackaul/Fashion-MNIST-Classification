{
  "nbformat": 4,
  "nbformat_minor": 0,
  "metadata": {
    "colab": {
      "provenance": []
    },
    "kernelspec": {
      "name": "python3",
      "display_name": "Python 3"
    },
    "language_info": {
      "name": "python"
    }
  },
  "cells": [
    {
      "cell_type": "code",
      "source": [
        "#import libraries"
      ],
      "metadata": {
        "id": "5NR9LrWkiAht"
      },
      "execution_count": null,
      "outputs": []
    },
    {
      "cell_type": "code",
      "execution_count": null,
      "metadata": {
        "id": "1oz36pByN-Wx"
      },
      "outputs": [],
      "source": [
        "import matplotlib.pyplot as plt\n",
        "import numpy as np\n",
        "import seaborn as sns\n",
        "import keras\n",
        "import tensorflow as tf"
      ]
    },
    {
      "cell_type": "code",
      "source": [
        "#load data"
      ],
      "metadata": {
        "id": "cTEVIUxZiEX-"
      },
      "execution_count": null,
      "outputs": []
    },
    {
      "cell_type": "code",
      "source": [
        "(X_train, y_train), (X_test, y_test) = tf.keras.datasets.fashion_mnist.load_data()"
      ],
      "metadata": {
        "id": "6rjXFjvYODGP"
      },
      "execution_count": null,
      "outputs": []
    },
    {
      "cell_type": "code",
      "source": [
        "X_train.shape, y_train.shape     #X_train = 60000 images and each image is 28/28 pixel\n",
        "                                 #y_train = 60000 levels"
      ],
      "metadata": {
        "colab": {
          "base_uri": "https://localhost:8080/"
        },
        "id": "l0qCgKUdOHCl",
        "outputId": "268cac04-fd90-40f4-a14e-5ee20e10547a"
      },
      "execution_count": null,
      "outputs": [
        {
          "output_type": "execute_result",
          "data": {
            "text/plain": [
              "((60000, 28, 28), (60000,))"
            ]
          },
          "metadata": {},
          "execution_count": 145
        }
      ]
    },
    {
      "cell_type": "code",
      "source": [
        "X_test.shape, y_test.shape"
      ],
      "metadata": {
        "colab": {
          "base_uri": "https://localhost:8080/"
        },
        "id": "OVZ6IeeqORho",
        "outputId": "cf0eb64f-1834-46a5-e568-27789e223476"
      },
      "execution_count": null,
      "outputs": [
        {
          "output_type": "execute_result",
          "data": {
            "text/plain": [
              "((10000, 28, 28), (10000,))"
            ]
          },
          "metadata": {},
          "execution_count": 146
        }
      ]
    },
    {
      "cell_type": "code",
      "source": [
        "#seeing datasets"
      ],
      "metadata": {
        "id": "b94l7qBDiJne"
      },
      "execution_count": null,
      "outputs": []
    },
    {
      "cell_type": "code",
      "source": [
        "X_train"
      ],
      "metadata": {
        "colab": {
          "base_uri": "https://localhost:8080/"
        },
        "id": "pAtnjXi4TlmY",
        "outputId": "502ac825-38c3-49af-b832-d3ce433abf9d"
      },
      "execution_count": null,
      "outputs": [
        {
          "output_type": "execute_result",
          "data": {
            "text/plain": [
              "array([[[0, 0, 0, ..., 0, 0, 0],\n",
              "        [0, 0, 0, ..., 0, 0, 0],\n",
              "        [0, 0, 0, ..., 0, 0, 0],\n",
              "        ...,\n",
              "        [0, 0, 0, ..., 0, 0, 0],\n",
              "        [0, 0, 0, ..., 0, 0, 0],\n",
              "        [0, 0, 0, ..., 0, 0, 0]],\n",
              "\n",
              "       [[0, 0, 0, ..., 0, 0, 0],\n",
              "        [0, 0, 0, ..., 0, 0, 0],\n",
              "        [0, 0, 0, ..., 0, 0, 0],\n",
              "        ...,\n",
              "        [0, 0, 0, ..., 0, 0, 0],\n",
              "        [0, 0, 0, ..., 0, 0, 0],\n",
              "        [0, 0, 0, ..., 0, 0, 0]],\n",
              "\n",
              "       [[0, 0, 0, ..., 0, 0, 0],\n",
              "        [0, 0, 0, ..., 0, 0, 0],\n",
              "        [0, 0, 0, ..., 0, 0, 0],\n",
              "        ...,\n",
              "        [0, 0, 0, ..., 0, 0, 0],\n",
              "        [0, 0, 0, ..., 0, 0, 0],\n",
              "        [0, 0, 0, ..., 0, 0, 0]],\n",
              "\n",
              "       ...,\n",
              "\n",
              "       [[0, 0, 0, ..., 0, 0, 0],\n",
              "        [0, 0, 0, ..., 0, 0, 0],\n",
              "        [0, 0, 0, ..., 0, 0, 0],\n",
              "        ...,\n",
              "        [0, 0, 0, ..., 0, 0, 0],\n",
              "        [0, 0, 0, ..., 0, 0, 0],\n",
              "        [0, 0, 0, ..., 0, 0, 0]],\n",
              "\n",
              "       [[0, 0, 0, ..., 0, 0, 0],\n",
              "        [0, 0, 0, ..., 0, 0, 0],\n",
              "        [0, 0, 0, ..., 0, 0, 0],\n",
              "        ...,\n",
              "        [0, 0, 0, ..., 0, 0, 0],\n",
              "        [0, 0, 0, ..., 0, 0, 0],\n",
              "        [0, 0, 0, ..., 0, 0, 0]],\n",
              "\n",
              "       [[0, 0, 0, ..., 0, 0, 0],\n",
              "        [0, 0, 0, ..., 0, 0, 0],\n",
              "        [0, 0, 0, ..., 0, 0, 0],\n",
              "        ...,\n",
              "        [0, 0, 0, ..., 0, 0, 0],\n",
              "        [0, 0, 0, ..., 0, 0, 0],\n",
              "        [0, 0, 0, ..., 0, 0, 0]]], dtype=uint8)"
            ]
          },
          "metadata": {},
          "execution_count": 148
        }
      ]
    },
    {
      "cell_type": "code",
      "source": [
        "#seeing dataset of single image"
      ],
      "metadata": {
        "id": "61pHoE0NiMZN"
      },
      "execution_count": null,
      "outputs": []
    },
    {
      "cell_type": "code",
      "source": [
        "X_train[0]  #image at 0th index"
      ],
      "metadata": {
        "colab": {
          "base_uri": "https://localhost:8080/"
        },
        "id": "kWDIiD9XT0LM",
        "outputId": "2ade4596-4ff9-403c-c498-173e29bcc1f4"
      },
      "execution_count": null,
      "outputs": [
        {
          "output_type": "execute_result",
          "data": {
            "text/plain": [
              "array([[  0,   0,   0,   0,   0,   0,   0,   0,   0,   0,   0,   0,   0,\n",
              "          0,   0,   0,   0,   0,   0,   0,   0,   0,   0,   0,   0,   0,\n",
              "          0,   0],\n",
              "       [  0,   0,   0,   0,   0,   0,   0,   0,   0,   0,   0,   0,   0,\n",
              "          0,   0,   0,   0,   0,   0,   0,   0,   0,   0,   0,   0,   0,\n",
              "          0,   0],\n",
              "       [  0,   0,   0,   0,   0,   0,   0,   0,   0,   0,   0,   0,   0,\n",
              "          0,   0,   0,   0,   0,   0,   0,   0,   0,   0,   0,   0,   0,\n",
              "          0,   0],\n",
              "       [  0,   0,   0,   0,   0,   0,   0,   0,   0,   0,   0,   0,   1,\n",
              "          0,   0,  13,  73,   0,   0,   1,   4,   0,   0,   0,   0,   1,\n",
              "          1,   0],\n",
              "       [  0,   0,   0,   0,   0,   0,   0,   0,   0,   0,   0,   0,   3,\n",
              "          0,  36, 136, 127,  62,  54,   0,   0,   0,   1,   3,   4,   0,\n",
              "          0,   3],\n",
              "       [  0,   0,   0,   0,   0,   0,   0,   0,   0,   0,   0,   0,   6,\n",
              "          0, 102, 204, 176, 134, 144, 123,  23,   0,   0,   0,   0,  12,\n",
              "         10,   0],\n",
              "       [  0,   0,   0,   0,   0,   0,   0,   0,   0,   0,   0,   0,   0,\n",
              "          0, 155, 236, 207, 178, 107, 156, 161, 109,  64,  23,  77, 130,\n",
              "         72,  15],\n",
              "       [  0,   0,   0,   0,   0,   0,   0,   0,   0,   0,   0,   1,   0,\n",
              "         69, 207, 223, 218, 216, 216, 163, 127, 121, 122, 146, 141,  88,\n",
              "        172,  66],\n",
              "       [  0,   0,   0,   0,   0,   0,   0,   0,   0,   1,   1,   1,   0,\n",
              "        200, 232, 232, 233, 229, 223, 223, 215, 213, 164, 127, 123, 196,\n",
              "        229,   0],\n",
              "       [  0,   0,   0,   0,   0,   0,   0,   0,   0,   0,   0,   0,   0,\n",
              "        183, 225, 216, 223, 228, 235, 227, 224, 222, 224, 221, 223, 245,\n",
              "        173,   0],\n",
              "       [  0,   0,   0,   0,   0,   0,   0,   0,   0,   0,   0,   0,   0,\n",
              "        193, 228, 218, 213, 198, 180, 212, 210, 211, 213, 223, 220, 243,\n",
              "        202,   0],\n",
              "       [  0,   0,   0,   0,   0,   0,   0,   0,   0,   1,   3,   0,  12,\n",
              "        219, 220, 212, 218, 192, 169, 227, 208, 218, 224, 212, 226, 197,\n",
              "        209,  52],\n",
              "       [  0,   0,   0,   0,   0,   0,   0,   0,   0,   0,   6,   0,  99,\n",
              "        244, 222, 220, 218, 203, 198, 221, 215, 213, 222, 220, 245, 119,\n",
              "        167,  56],\n",
              "       [  0,   0,   0,   0,   0,   0,   0,   0,   0,   4,   0,   0,  55,\n",
              "        236, 228, 230, 228, 240, 232, 213, 218, 223, 234, 217, 217, 209,\n",
              "         92,   0],\n",
              "       [  0,   0,   1,   4,   6,   7,   2,   0,   0,   0,   0,   0, 237,\n",
              "        226, 217, 223, 222, 219, 222, 221, 216, 223, 229, 215, 218, 255,\n",
              "         77,   0],\n",
              "       [  0,   3,   0,   0,   0,   0,   0,   0,   0,  62, 145, 204, 228,\n",
              "        207, 213, 221, 218, 208, 211, 218, 224, 223, 219, 215, 224, 244,\n",
              "        159,   0],\n",
              "       [  0,   0,   0,   0,  18,  44,  82, 107, 189, 228, 220, 222, 217,\n",
              "        226, 200, 205, 211, 230, 224, 234, 176, 188, 250, 248, 233, 238,\n",
              "        215,   0],\n",
              "       [  0,  57, 187, 208, 224, 221, 224, 208, 204, 214, 208, 209, 200,\n",
              "        159, 245, 193, 206, 223, 255, 255, 221, 234, 221, 211, 220, 232,\n",
              "        246,   0],\n",
              "       [  3, 202, 228, 224, 221, 211, 211, 214, 205, 205, 205, 220, 240,\n",
              "         80, 150, 255, 229, 221, 188, 154, 191, 210, 204, 209, 222, 228,\n",
              "        225,   0],\n",
              "       [ 98, 233, 198, 210, 222, 229, 229, 234, 249, 220, 194, 215, 217,\n",
              "        241,  65,  73, 106, 117, 168, 219, 221, 215, 217, 223, 223, 224,\n",
              "        229,  29],\n",
              "       [ 75, 204, 212, 204, 193, 205, 211, 225, 216, 185, 197, 206, 198,\n",
              "        213, 240, 195, 227, 245, 239, 223, 218, 212, 209, 222, 220, 221,\n",
              "        230,  67],\n",
              "       [ 48, 203, 183, 194, 213, 197, 185, 190, 194, 192, 202, 214, 219,\n",
              "        221, 220, 236, 225, 216, 199, 206, 186, 181, 177, 172, 181, 205,\n",
              "        206, 115],\n",
              "       [  0, 122, 219, 193, 179, 171, 183, 196, 204, 210, 213, 207, 211,\n",
              "        210, 200, 196, 194, 191, 195, 191, 198, 192, 176, 156, 167, 177,\n",
              "        210,  92],\n",
              "       [  0,   0,  74, 189, 212, 191, 175, 172, 175, 181, 185, 188, 189,\n",
              "        188, 193, 198, 204, 209, 210, 210, 211, 188, 188, 194, 192, 216,\n",
              "        170,   0],\n",
              "       [  2,   0,   0,   0,  66, 200, 222, 237, 239, 242, 246, 243, 244,\n",
              "        221, 220, 193, 191, 179, 182, 182, 181, 176, 166, 168,  99,  58,\n",
              "          0,   0],\n",
              "       [  0,   0,   0,   0,   0,   0,   0,  40,  61,  44,  72,  41,  35,\n",
              "          0,   0,   0,   0,   0,   0,   0,   0,   0,   0,   0,   0,   0,\n",
              "          0,   0],\n",
              "       [  0,   0,   0,   0,   0,   0,   0,   0,   0,   0,   0,   0,   0,\n",
              "          0,   0,   0,   0,   0,   0,   0,   0,   0,   0,   0,   0,   0,\n",
              "          0,   0],\n",
              "       [  0,   0,   0,   0,   0,   0,   0,   0,   0,   0,   0,   0,   0,\n",
              "          0,   0,   0,   0,   0,   0,   0,   0,   0,   0,   0,   0,   0,\n",
              "          0,   0]], dtype=uint8)"
            ]
          },
          "metadata": {},
          "execution_count": 150
        }
      ]
    },
    {
      "cell_type": "markdown",
      "source": [
        "0 indicates the white scale in the image whereas 255 is the number of the black pixel in an image. After 0, our gray scale increases and when it reaches 255, we get the black pixel."
      ],
      "metadata": {
        "id": "bMqDj5z3UG20"
      }
    },
    {
      "cell_type": "code",
      "source": [
        "#level of image\n",
        "y_train[0]   #at 0th index"
      ],
      "metadata": {
        "colab": {
          "base_uri": "https://localhost:8080/"
        },
        "id": "edzUWQGQU3VZ",
        "outputId": "445ccc7d-4b97-4252-87ad-0e4c49991b91"
      },
      "execution_count": null,
      "outputs": [
        {
          "output_type": "execute_result",
          "data": {
            "text/plain": [
              "9"
            ]
          },
          "metadata": {},
          "execution_count": 151
        }
      ]
    },
    {
      "cell_type": "code",
      "source": [
        "class_labels = [\"T-shirt/top\", \"Trouser\", \"Pullover\", \"Dress\", \"Coat\", \"Sandal\", \"Shirt\",\t\"Sneaker\",\t\"Bag\",\t\"Ankle boot\"]\n",
        "'''\n",
        "0 => T-shirt/top\n",
        "1 => Trouser\n",
        "2 => Pullover\n",
        "3 => Dress\n",
        "4 => Coat\n",
        "5 => Sandal\n",
        "6 => Shirt\n",
        "7 => Sneaker\n",
        "8 => Bag\n",
        "9 => Ankle boot '''"
      ],
      "metadata": {
        "colab": {
          "base_uri": "https://localhost:8080/",
          "height": 36
        },
        "id": "DsHmUvKDVNW9",
        "outputId": "f8f70f3e-4d49-48e9-ec1b-8e9cb7ff4971"
      },
      "execution_count": null,
      "outputs": [
        {
          "output_type": "execute_result",
          "data": {
            "text/plain": [
              "'\\n0 => T-shirt/top\\n1 => Trouser\\n2 => Pullover\\n3 => Dress\\n4 => Coat\\n5 => Sandal\\n6 => Shirt\\n7 => Sneaker\\n8 => Bag\\n9 => Ankle boot '"
            ],
            "application/vnd.google.colaboratory.intrinsic+json": {
              "type": "string"
            }
          },
          "metadata": {},
          "execution_count": 152
        }
      ]
    },
    {
      "cell_type": "code",
      "source": [
        "class_labels    #each label is given a number starting from 0"
      ],
      "metadata": {
        "colab": {
          "base_uri": "https://localhost:8080/"
        },
        "id": "L-IRWyNmVRAg",
        "outputId": "6bbd3e71-a70e-423e-e6c3-d155a66f14e1"
      },
      "execution_count": null,
      "outputs": [
        {
          "output_type": "execute_result",
          "data": {
            "text/plain": [
              "['T-shirt/top',\n",
              " 'Trouser',\n",
              " 'Pullover',\n",
              " 'Dress',\n",
              " 'Coat',\n",
              " 'Sandal',\n",
              " 'Shirt',\n",
              " 'Sneaker',\n",
              " 'Bag',\n",
              " 'Ankle boot']"
            ]
          },
          "metadata": {},
          "execution_count": 153
        }
      ]
    },
    {
      "cell_type": "code",
      "source": [
        "#Show image"
      ],
      "metadata": {
        "id": "fUtCqZpniSKo"
      },
      "execution_count": null,
      "outputs": []
    },
    {
      "cell_type": "code",
      "source": [
        "plt.imshow(X_train[0])   #1st image"
      ],
      "metadata": {
        "colab": {
          "base_uri": "https://localhost:8080/",
          "height": 283
        },
        "id": "xxBeP6ndV9Q9",
        "outputId": "4a3e6f4c-d055-44cc-8a51-067357c88fe2"
      },
      "execution_count": null,
      "outputs": [
        {
          "output_type": "execute_result",
          "data": {
            "text/plain": [
              "<matplotlib.image.AxesImage at 0x7f924c12e890>"
            ]
          },
          "metadata": {},
          "execution_count": 155
        },
        {
          "output_type": "display_data",
          "data": {
            "text/plain": [
              "<Figure size 432x288 with 1 Axes>"
            ],
            "image/png": "[encoded data removed]"
          },
          "metadata": {
            "needs_background": "light"
          }
        }
      ]
    },
    {
      "cell_type": "code",
      "source": [
        "plt.imshow(X_train[0], cmap='Greys')   # we can choose colors for our image using cmap"
      ],
      "metadata": {
        "colab": {
          "base_uri": "https://localhost:8080/",
          "height": 283
        },
        "id": "JM7QBAscXwu7",
        "outputId": "168c8770-a253-476a-ae75-1bb6003b892f"
      },
      "execution_count": null,
      "outputs": [
        {
          "output_type": "execute_result",
          "data": {
            "text/plain": [
              "<matplotlib.image.AxesImage at 0x7f9246af1110>"
            ]
          },
          "metadata": {},
          "execution_count": 156
        },
        {
          "output_type": "display_data",
          "data": {
            "text/plain": [
              "<Figure size 432x288 with 1 Axes>"
            ],
            "image/png": "[encoded data removed]"
          },
          "metadata": {
            "needs_background": "light"
          }
        }
      ]
    },
    {
      "cell_type": "code",
      "source": [
        "plt.imshow(X_train[1], cmap='Greys')  # 2nd image"
      ],
      "metadata": {
        "colab": {
          "base_uri": "https://localhost:8080/",
          "height": 283
        },
        "id": "3tnevvOaYRd8",
        "outputId": "aee30835-1a77-4f8b-febc-0b08eb9c37bd"
      },
      "execution_count": null,
      "outputs": [
        {
          "output_type": "execute_result",
          "data": {
            "text/plain": [
              "<matplotlib.image.AxesImage at 0x7f923eb3a990>"
            ]
          },
          "metadata": {},
          "execution_count": 157
        },
        {
          "output_type": "display_data",
          "data": {
            "text/plain": [
              "<Figure size 432x288 with 1 Axes>"
            ],
            "image/png": "[encoded data removed]"
          },
          "metadata": {
            "needs_background": "light"
          }
        }
      ]
    },
    {
      "cell_type": "code",
      "source": [
        "plt.figure(figsize=(16,16))\n",
        "\n",
        "j=1\n",
        "for i in np.random.randint(0, 1000, 25):    # there are total 60000 images in dataset, we take any 25 images randomly b/w 0 to 1000 images of the dataset.\n",
        "  plt.subplot(5, 5, j); j+=1      # subplot created bcoz we need to show 25 images in the same place.\n",
        "  plt.imshow(X_train[i], cmap='Greys')\n",
        "  plt.axis('off')    # off the axis\n",
        "  plt.title('{} / {}'.format(class_labels[y_train[i]],y_train[i]))     # it will show the [class label of that particular image / its level] as its title."
      ],
      "metadata": {
        "colab": {
          "base_uri": "https://localhost:8080/",
          "height": 917
        },
        "id": "y8Ak73lLdLIb",
        "outputId": "5305236b-50f5-426b-d51b-bdc2251cd311"
      },
      "execution_count": null,
      "outputs": [
        {
          "output_type": "display_data",
          "data": {
            "text/plain": [
              "<Figure size 1152x1152 with 25 Axes>"
            ],
            "image/png": "[encoded data removed]"
          },
          "metadata": {
            "needs_background": "light"
          }
        }
      ]
    },
    {
      "cell_type": "code",
      "source": [
        "#changing dimension of dataset (3D - 4D)"
      ],
      "metadata": {
        "id": "lPV4fdC4iWZG"
      },
      "execution_count": null,
      "outputs": []
    },
    {
      "cell_type": "code",
      "source": [
        "X_train.ndim    #3D"
      ],
      "metadata": {
        "colab": {
          "base_uri": "https://localhost:8080/"
        },
        "id": "jXRK_Jeag3iV",
        "outputId": "c2eaee4f-a5d8-437f-c8a5-33d30ac9619e"
      },
      "execution_count": null,
      "outputs": [
        {
          "output_type": "execute_result",
          "data": {
            "text/plain": [
              "3"
            ]
          },
          "metadata": {},
          "execution_count": 160
        }
      ]
    },
    {
      "cell_type": "code",
      "source": [
        "X_train.shape"
      ],
      "metadata": {
        "colab": {
          "base_uri": "https://localhost:8080/"
        },
        "id": "BnsYoYvghSkU",
        "outputId": "2fc6b0e5-1fee-4a4f-ca91-8b90ade56e5a"
      },
      "execution_count": null,
      "outputs": [
        {
          "output_type": "execute_result",
          "data": {
            "text/plain": [
              "(60000, 28, 28)"
            ]
          },
          "metadata": {},
          "execution_count": 161
        }
      ]
    },
    {
      "cell_type": "code",
      "source": [
        "X_train = np.expand_dims(X_train, -1)\n",
        "X_test = np.expand_dims(X_test, -1)"
      ],
      "metadata": {
        "id": "CV5WXDhjg_Op"
      },
      "execution_count": null,
      "outputs": []
    },
    {
      "cell_type": "code",
      "source": [
        "X_train.ndim"
      ],
      "metadata": {
        "colab": {
          "base_uri": "https://localhost:8080/"
        },
        "id": "UrOkh6DEhWO2",
        "outputId": "14f4f98b-35ae-415c-921f-612bbb9865a8"
      },
      "execution_count": null,
      "outputs": [
        {
          "output_type": "execute_result",
          "data": {
            "text/plain": [
              "4"
            ]
          },
          "metadata": {},
          "execution_count": 163
        }
      ]
    },
    {
      "cell_type": "code",
      "source": [
        "X_train.shape"
      ],
      "metadata": {
        "colab": {
          "base_uri": "https://localhost:8080/"
        },
        "id": "LPBq2i1AhZUk",
        "outputId": "f060f30a-56b6-4d28-f923-73e9291c89de"
      },
      "execution_count": null,
      "outputs": [
        {
          "output_type": "execute_result",
          "data": {
            "text/plain": [
              "(60000, 28, 28, 1)"
            ]
          },
          "metadata": {},
          "execution_count": 164
        }
      ]
    },
    {
      "cell_type": "code",
      "source": [
        "#Feature scaling"
      ],
      "metadata": {
        "id": "qK9-GMtfhdwr"
      },
      "execution_count": null,
      "outputs": []
    },
    {
      "cell_type": "code",
      "source": [
        "X_train = X_train/255     # will get the dataset b/w 0 and 1\n",
        "X_test = X_test/255"
      ],
      "metadata": {
        "id": "xu5uDrWkiYiK"
      },
      "execution_count": null,
      "outputs": []
    },
    {
      "cell_type": "code",
      "source": [
        "X_train[0]"
      ],
      "metadata": {
        "colab": {
          "base_uri": "https://localhost:8080/"
        },
        "id": "02oCuMaRvQqj",
        "outputId": "fe43eb7a-4289-41f1-97e8-9582e71f84b0"
      },
      "execution_count": null,
      "outputs": [
        {
          "output_type": "execute_result",
          "data": {
            "text/plain": [
              "array([[[  0],\n",
              "        [  0],\n",
              "        [  0],\n",
              "        [  0],\n",
              "        [  0],\n",
              "        [  1],\n",
              "        [  0],\n",
              "        [  1],\n",
              "        [  0],\n",
              "        [  0],\n",
              "        [  0],\n",
              "        [  0],\n",
              "        [ 66],\n",
              "        [156],\n",
              "        [156],\n",
              "        [ 75],\n",
              "        [  0],\n",
              "        [  0],\n",
              "        [  0],\n",
              "        [  2],\n",
              "        [  0],\n",
              "        [  0],\n",
              "        [  0],\n",
              "        [  0],\n",
              "        [  0],\n",
              "        [  0],\n",
              "        [  0],\n",
              "        [  0]],\n",
              "\n",
              "       [[  0],\n",
              "        [  0],\n",
              "        [  0],\n",
              "        [  0],\n",
              "        [  0],\n",
              "        [  0],\n",
              "        [  0],\n",
              "        [  0],\n",
              "        [  0],\n",
              "        [  0],\n",
              "        [ 84],\n",
              "        [224],\n",
              "        [243],\n",
              "        [205],\n",
              "        [240],\n",
              "        [162],\n",
              "        [136],\n",
              "        [151],\n",
              "        [ 32],\n",
              "        [  0],\n",
              "        [  1],\n",
              "        [  0],\n",
              "        [  0],\n",
              "        [  0],\n",
              "        [  0],\n",
              "        [  0],\n",
              "        [  0],\n",
              "        [  0]],\n",
              "\n",
              "       [[  0],\n",
              "        [  0],\n",
              "        [  0],\n",
              "        [  0],\n",
              "        [  0],\n",
              "        [  0],\n",
              "        [  0],\n",
              "        [  5],\n",
              "        [  0],\n",
              "        [ 79],\n",
              "        [207],\n",
              "        [183],\n",
              "        [173],\n",
              "        [157],\n",
              "        [218],\n",
              "        [142],\n",
              "        [153],\n",
              "        [187],\n",
              "        [195],\n",
              "        [ 36],\n",
              "        [  0],\n",
              "        [  5],\n",
              "        [  0],\n",
              "        [  0],\n",
              "        [  0],\n",
              "        [  0],\n",
              "        [  0],\n",
              "        [  0]],\n",
              "\n",
              "       [[  0],\n",
              "        [  0],\n",
              "        [  0],\n",
              "        [  0],\n",
              "        [  0],\n",
              "        [  0],\n",
              "        [  0],\n",
              "        [  2],\n",
              "        [  0],\n",
              "        [215],\n",
              "        [204],\n",
              "        [174],\n",
              "        [177],\n",
              "        [163],\n",
              "        [213],\n",
              "        [145],\n",
              "        [174],\n",
              "        [176],\n",
              "        [207],\n",
              "        [201],\n",
              "        [  0],\n",
              "        [  2],\n",
              "        [  1],\n",
              "        [  0],\n",
              "        [  0],\n",
              "        [  0],\n",
              "        [  0],\n",
              "        [  0]],\n",
              "\n",
              "       [[  0],\n",
              "        [  0],\n",
              "        [  0],\n",
              "        [  0],\n",
              "        [  0],\n",
              "        [  0],\n",
              "        [  2],\n",
              "        [  0],\n",
              "        [ 13],\n",
              "        [199],\n",
              "        [211],\n",
              "        [186],\n",
              "        [166],\n",
              "        [153],\n",
              "        [215],\n",
              "        [156],\n",
              "        [180],\n",
              "        [183],\n",
              "        [211],\n",
              "        [195],\n",
              "        [  1],\n",
              "        [  0],\n",
              "        [  3],\n",
              "        [  0],\n",
              "        [  0],\n",
              "        [  0],\n",
              "        [  0],\n",
              "        [  0]],\n",
              "\n",
              "       [[  0],\n",
              "        [  0],\n",
              "        [  0],\n",
              "        [  0],\n",
              "        [  0],\n",
              "        [  0],\n",
              "        [  5],\n",
              "        [  0],\n",
              "        [ 98],\n",
              "        [202],\n",
              "        [199],\n",
              "        [204],\n",
              "        [173],\n",
              "        [153],\n",
              "        [213],\n",
              "        [148],\n",
              "        [180],\n",
              "        [201],\n",
              "        [200],\n",
              "        [201],\n",
              "        [ 79],\n",
              "        [  0],\n",
              "        [  5],\n",
              "        [  0],\n",
              "        [  0],\n",
              "        [  0],\n",
              "        [  0],\n",
              "        [  0]],\n",
              "\n",
              "       [[  0],\n",
              "        [  0],\n",
              "        [  0],\n",
              "        [  0],\n",
              "        [  0],\n",
              "        [  1],\n",
              "        [  0],\n",
              "        [  0],\n",
              "        [193],\n",
              "        [180],\n",
              "        [204],\n",
              "        [213],\n",
              "        [167],\n",
              "        [161],\n",
              "        [208],\n",
              "        [144],\n",
              "        [174],\n",
              "        [214],\n",
              "        [202],\n",
              "        [180],\n",
              "        [183],\n",
              "        [  0],\n",
              "        [  0],\n",
              "        [  0],\n",
              "        [  0],\n",
              "        [  0],\n",
              "        [  0],\n",
              "        [  0]],\n",
              "\n",
              "       [[  0],\n",
              "        [  0],\n",
              "        [  0],\n",
              "        [  0],\n",
              "        [  0],\n",
              "        [  4],\n",
              "        [  0],\n",
              "        [ 59],\n",
              "        [198],\n",
              "        [175],\n",
              "        [158],\n",
              "        [228],\n",
              "        [166],\n",
              "        [166],\n",
              "        [201],\n",
              "        [162],\n",
              "        [168],\n",
              "        [231],\n",
              "        [164],\n",
              "        [171],\n",
              "        [194],\n",
              "        [ 43],\n",
              "        [  0],\n",
              "        [  4],\n",
              "        [  0],\n",
              "        [  0],\n",
              "        [  0],\n",
              "        [  0]],\n",
              "\n",
              "       [[  0],\n",
              "        [  0],\n",
              "        [  0],\n",
              "        [  0],\n",
              "        [  0],\n",
              "        [  0],\n",
              "        [  0],\n",
              "        [148],\n",
              "        [209],\n",
              "        [144],\n",
              "        [ 18],\n",
              "        [255],\n",
              "        [163],\n",
              "        [163],\n",
              "        [206],\n",
              "        [160],\n",
              "        [167],\n",
              "        [251],\n",
              "        [ 20],\n",
              "        [158],\n",
              "        [208],\n",
              "        [135],\n",
              "        [  0],\n",
              "        [  0],\n",
              "        [  0],\n",
              "        [  0],\n",
              "        [  0],\n",
              "        [  0]],\n",
              "\n",
              "       [[  0],\n",
              "        [  0],\n",
              "        [  0],\n",
              "        [  0],\n",
              "        [  0],\n",
              "        [  0],\n",
              "        [  0],\n",
              "        [188],\n",
              "        [196],\n",
              "        [ 13],\n",
              "        [ 11],\n",
              "        [247],\n",
              "        [177],\n",
              "        [160],\n",
              "        [215],\n",
              "        [150],\n",
              "        [183],\n",
              "        [247],\n",
              "        [  2],\n",
              "        [ 34],\n",
              "        [202],\n",
              "        [181],\n",
              "        [  0],\n",
              "        [  0],\n",
              "        [  0],\n",
              "        [  0],\n",
              "        [  0],\n",
              "        [  0]],\n",
              "\n",
              "       [[  0],\n",
              "        [  0],\n",
              "        [  0],\n",
              "        [  0],\n",
              "        [  0],\n",
              "        [  0],\n",
              "        [112],\n",
              "        [204],\n",
              "        [158],\n",
              "        [  0],\n",
              "        [ 45],\n",
              "        [236],\n",
              "        [188],\n",
              "        [161],\n",
              "        [219],\n",
              "        [145],\n",
              "        [198],\n",
              "        [232],\n",
              "        [ 37],\n",
              "        [  0],\n",
              "        [166],\n",
              "        [205],\n",
              "        [ 97],\n",
              "        [  0],\n",
              "        [  0],\n",
              "        [  0],\n",
              "        [  0],\n",
              "        [  0]],\n",
              "\n",
              "       [[  0],\n",
              "        [  0],\n",
              "        [  0],\n",
              "        [  0],\n",
              "        [  0],\n",
              "        [  0],\n",
              "        [167],\n",
              "        [189],\n",
              "        [ 49],\n",
              "        [  0],\n",
              "        [ 68],\n",
              "        [236],\n",
              "        [185],\n",
              "        [170],\n",
              "        [222],\n",
              "        [136],\n",
              "        [192],\n",
              "        [234],\n",
              "        [ 54],\n",
              "        [  0],\n",
              "        [ 66],\n",
              "        [192],\n",
              "        [161],\n",
              "        [  0],\n",
              "        [  0],\n",
              "        [  0],\n",
              "        [  0],\n",
              "        [  0]],\n",
              "\n",
              "       [[  0],\n",
              "        [  0],\n",
              "        [  0],\n",
              "        [  0],\n",
              "        [  0],\n",
              "        [ 37],\n",
              "        [188],\n",
              "        [148],\n",
              "        [  0],\n",
              "        [  0],\n",
              "        [ 84],\n",
              "        [244],\n",
              "        [162],\n",
              "        [182],\n",
              "        [222],\n",
              "        [137],\n",
              "        [176],\n",
              "        [243],\n",
              "        [ 75],\n",
              "        [  0],\n",
              "        [  0],\n",
              "        [158],\n",
              "        [185],\n",
              "        [ 24],\n",
              "        [  0],\n",
              "        [  0],\n",
              "        [  0],\n",
              "        [  0]],\n",
              "\n",
              "       [[  0],\n",
              "        [  0],\n",
              "        [  0],\n",
              "        [  0],\n",
              "        [  0],\n",
              "        [167],\n",
              "        [206],\n",
              "        [ 49],\n",
              "        [  0],\n",
              "        [  0],\n",
              "        [112],\n",
              "        [212],\n",
              "        [151],\n",
              "        [199],\n",
              "        [208],\n",
              "        [149],\n",
              "        [164],\n",
              "        [212],\n",
              "        [103],\n",
              "        [  0],\n",
              "        [  0],\n",
              "        [ 68],\n",
              "        [208],\n",
              "        [162],\n",
              "        [  0],\n",
              "        [  0],\n",
              "        [  0],\n",
              "        [  0]],\n",
              "\n",
              "       [[  0],\n",
              "        [  0],\n",
              "        [  0],\n",
              "        [  0],\n",
              "        [  0],\n",
              "        [ 32],\n",
              "        [ 99],\n",
              "        [  0],\n",
              "        [  0],\n",
              "        [  0],\n",
              "        [150],\n",
              "        [211],\n",
              "        [150],\n",
              "        [214],\n",
              "        [201],\n",
              "        [151],\n",
              "        [170],\n",
              "        [212],\n",
              "        [136],\n",
              "        [  0],\n",
              "        [  0],\n",
              "        [  0],\n",
              "        [113],\n",
              "        [ 42],\n",
              "        [  0],\n",
              "        [  0],\n",
              "        [  0],\n",
              "        [  0]],\n",
              "\n",
              "       [[  0],\n",
              "        [  0],\n",
              "        [  0],\n",
              "        [  0],\n",
              "        [  0],\n",
              "        [  0],\n",
              "        [  0],\n",
              "        [  0],\n",
              "        [  0],\n",
              "        [  0],\n",
              "        [170],\n",
              "        [206],\n",
              "        [161],\n",
              "        [217],\n",
              "        [196],\n",
              "        [161],\n",
              "        [175],\n",
              "        [206],\n",
              "        [167],\n",
              "        [  0],\n",
              "        [  0],\n",
              "        [  0],\n",
              "        [  0],\n",
              "        [  0],\n",
              "        [  0],\n",
              "        [  0],\n",
              "        [  0],\n",
              "        [  0]],\n",
              "\n",
              "       [[  0],\n",
              "        [  0],\n",
              "        [  0],\n",
              "        [  0],\n",
              "        [  0],\n",
              "        [  4],\n",
              "        [  5],\n",
              "        [  1],\n",
              "        [  0],\n",
              "        [  0],\n",
              "        [181],\n",
              "        [200],\n",
              "        [179],\n",
              "        [207],\n",
              "        [202],\n",
              "        [157],\n",
              "        [174],\n",
              "        [205],\n",
              "        [173],\n",
              "        [  0],\n",
              "        [  0],\n",
              "        [  0],\n",
              "        [  7],\n",
              "        [  4],\n",
              "        [  0],\n",
              "        [  0],\n",
              "        [  0],\n",
              "        [  0]],\n",
              "\n",
              "       [[  0],\n",
              "        [  0],\n",
              "        [  0],\n",
              "        [  0],\n",
              "        [  0],\n",
              "        [  0],\n",
              "        [  0],\n",
              "        [  0],\n",
              "        [  0],\n",
              "        [  0],\n",
              "        [183],\n",
              "        [201],\n",
              "        [187],\n",
              "        [211],\n",
              "        [206],\n",
              "        [151],\n",
              "        [175],\n",
              "        [206],\n",
              "        [171],\n",
              "        [  0],\n",
              "        [  0],\n",
              "        [  0],\n",
              "        [  0],\n",
              "        [  0],\n",
              "        [  0],\n",
              "        [  0],\n",
              "        [  0],\n",
              "        [  0]],\n",
              "\n",
              "       [[  0],\n",
              "        [  0],\n",
              "        [  0],\n",
              "        [  0],\n",
              "        [  0],\n",
              "        [  0],\n",
              "        [  0],\n",
              "        [  0],\n",
              "        [  1],\n",
              "        [  0],\n",
              "        [183],\n",
              "        [204],\n",
              "        [200],\n",
              "        [189],\n",
              "        [217],\n",
              "        [147],\n",
              "        [176],\n",
              "        [208],\n",
              "        [174],\n",
              "        [  0],\n",
              "        [  5],\n",
              "        [  0],\n",
              "        [  1],\n",
              "        [  0],\n",
              "        [  0],\n",
              "        [  0],\n",
              "        [  0],\n",
              "        [  0]],\n",
              "\n",
              "       [[  0],\n",
              "        [  0],\n",
              "        [  0],\n",
              "        [  0],\n",
              "        [  0],\n",
              "        [  0],\n",
              "        [  0],\n",
              "        [  0],\n",
              "        [  0],\n",
              "        [  0],\n",
              "        [170],\n",
              "        [211],\n",
              "        [217],\n",
              "        [173],\n",
              "        [225],\n",
              "        [162],\n",
              "        [168],\n",
              "        [209],\n",
              "        [166],\n",
              "        [  0],\n",
              "        [  4],\n",
              "        [  0],\n",
              "        [  0],\n",
              "        [  0],\n",
              "        [  0],\n",
              "        [  0],\n",
              "        [  0],\n",
              "        [  0]],\n",
              "\n",
              "       [[  0],\n",
              "        [  0],\n",
              "        [  0],\n",
              "        [  0],\n",
              "        [  0],\n",
              "        [  0],\n",
              "        [  0],\n",
              "        [  0],\n",
              "        [  0],\n",
              "        [  0],\n",
              "        [153],\n",
              "        [217],\n",
              "        [219],\n",
              "        [167],\n",
              "        [222],\n",
              "        [196],\n",
              "        [181],\n",
              "        [208],\n",
              "        [151],\n",
              "        [  0],\n",
              "        [  5],\n",
              "        [  0],\n",
              "        [  0],\n",
              "        [  0],\n",
              "        [  0],\n",
              "        [  0],\n",
              "        [  0],\n",
              "        [  0]],\n",
              "\n",
              "       [[  0],\n",
              "        [  0],\n",
              "        [  0],\n",
              "        [  0],\n",
              "        [  0],\n",
              "        [  0],\n",
              "        [  0],\n",
              "        [  0],\n",
              "        [  4],\n",
              "        [  0],\n",
              "        [141],\n",
              "        [222],\n",
              "        [217],\n",
              "        [166],\n",
              "        [215],\n",
              "        [204],\n",
              "        [202],\n",
              "        [214],\n",
              "        [132],\n",
              "        [  0],\n",
              "        [  5],\n",
              "        [  0],\n",
              "        [  0],\n",
              "        [  0],\n",
              "        [  0],\n",
              "        [  0],\n",
              "        [  0],\n",
              "        [  0]],\n",
              "\n",
              "       [[  0],\n",
              "        [  0],\n",
              "        [  0],\n",
              "        [  0],\n",
              "        [  0],\n",
              "        [  0],\n",
              "        [  0],\n",
              "        [  0],\n",
              "        [  5],\n",
              "        [  0],\n",
              "        [122],\n",
              "        [226],\n",
              "        [209],\n",
              "        [173],\n",
              "        [217],\n",
              "        [192],\n",
              "        [214],\n",
              "        [221],\n",
              "        [115],\n",
              "        [  0],\n",
              "        [  7],\n",
              "        [  0],\n",
              "        [  0],\n",
              "        [  0],\n",
              "        [  0],\n",
              "        [  0],\n",
              "        [  0],\n",
              "        [  0]],\n",
              "\n",
              "       [[  0],\n",
              "        [  0],\n",
              "        [  0],\n",
              "        [  0],\n",
              "        [  0],\n",
              "        [  0],\n",
              "        [  0],\n",
              "        [  0],\n",
              "        [  8],\n",
              "        [  0],\n",
              "        [103],\n",
              "        [231],\n",
              "        [205],\n",
              "        [171],\n",
              "        [231],\n",
              "        [180],\n",
              "        [213],\n",
              "        [230],\n",
              "        [ 93],\n",
              "        [  0],\n",
              "        [  7],\n",
              "        [  0],\n",
              "        [  0],\n",
              "        [  0],\n",
              "        [  0],\n",
              "        [  0],\n",
              "        [  0],\n",
              "        [  0]],\n",
              "\n",
              "       [[  0],\n",
              "        [  0],\n",
              "        [  0],\n",
              "        [  0],\n",
              "        [  0],\n",
              "        [  0],\n",
              "        [  0],\n",
              "        [  0],\n",
              "        [  7],\n",
              "        [  0],\n",
              "        [ 61],\n",
              "        [228],\n",
              "        [201],\n",
              "        [171],\n",
              "        [241],\n",
              "        [168],\n",
              "        [204],\n",
              "        [226],\n",
              "        [ 48],\n",
              "        [  0],\n",
              "        [  7],\n",
              "        [  0],\n",
              "        [  0],\n",
              "        [  0],\n",
              "        [  0],\n",
              "        [  0],\n",
              "        [  0],\n",
              "        [  0]],\n",
              "\n",
              "       [[  0],\n",
              "        [  0],\n",
              "        [  0],\n",
              "        [  0],\n",
              "        [  0],\n",
              "        [  0],\n",
              "        [  0],\n",
              "        [  0],\n",
              "        [  2],\n",
              "        [  0],\n",
              "        [  0],\n",
              "        [211],\n",
              "        [199],\n",
              "        [185],\n",
              "        [239],\n",
              "        [189],\n",
              "        [206],\n",
              "        [209],\n",
              "        [  0],\n",
              "        [  0],\n",
              "        [  2],\n",
              "        [  0],\n",
              "        [  0],\n",
              "        [  0],\n",
              "        [  0],\n",
              "        [  0],\n",
              "        [  0],\n",
              "        [  0]],\n",
              "\n",
              "       [[  0],\n",
              "        [  0],\n",
              "        [  0],\n",
              "        [  0],\n",
              "        [  0],\n",
              "        [  0],\n",
              "        [  0],\n",
              "        [  0],\n",
              "        [  0],\n",
              "        [  2],\n",
              "        [  0],\n",
              "        [175],\n",
              "        [225],\n",
              "        [192],\n",
              "        [251],\n",
              "        [211],\n",
              "        [228],\n",
              "        [160],\n",
              "        [  0],\n",
              "        [  3],\n",
              "        [  0],\n",
              "        [  0],\n",
              "        [  0],\n",
              "        [  0],\n",
              "        [  0],\n",
              "        [  0],\n",
              "        [  0],\n",
              "        [  0]],\n",
              "\n",
              "       [[  0],\n",
              "        [  0],\n",
              "        [  0],\n",
              "        [  0],\n",
              "        [  0],\n",
              "        [  0],\n",
              "        [  0],\n",
              "        [  0],\n",
              "        [  0],\n",
              "        [  2],\n",
              "        [  0],\n",
              "        [  0],\n",
              "        [ 97],\n",
              "        [ 22],\n",
              "        [  0],\n",
              "        [ 69],\n",
              "        [130],\n",
              "        [  0],\n",
              "        [  0],\n",
              "        [  2],\n",
              "        [  0],\n",
              "        [  0],\n",
              "        [  0],\n",
              "        [  0],\n",
              "        [  0],\n",
              "        [  0],\n",
              "        [  0],\n",
              "        [  0]]], dtype=uint8)"
            ]
          },
          "metadata": {},
          "execution_count": 211
        }
      ]
    },
    {
      "cell_type": "markdown",
      "source": [
        "Now to train the CNN we need the test and train data. For this we need the train, test and validation dataset - we train and test the data side by side. We require the test dataset at the end."
      ],
      "metadata": {
        "id": "-cl-zelfQk7y"
      }
    },
    {
      "cell_type": "code",
      "source": [
        "# Split Dataset"
      ],
      "metadata": {
        "id": "oFb47yd_vVQA"
      },
      "execution_count": null,
      "outputs": []
    },
    {
      "cell_type": "code",
      "source": [
        "from sklearn.model_selection import train_test_split\n",
        "X_train, X_val, y_train, y_val = train_test_split(X_train, y_train, test_size = 0.2, random_state = 2020)"
      ],
      "metadata": {
        "id": "vH-fDji5Xf8B"
      },
      "execution_count": null,
      "outputs": []
    },
    {
      "cell_type": "code",
      "source": [
        "X_train.shape, y_train.shape"
      ],
      "metadata": {
        "colab": {
          "base_uri": "https://localhost:8080/"
        },
        "id": "KznU7dWNYXL5",
        "outputId": "fb54eb42-b130-407b-e30b-6a39d4599a36"
      },
      "execution_count": null,
      "outputs": [
        {
          "output_type": "execute_result",
          "data": {
            "text/plain": [
              "((48000, 28, 28, 1), (48000,))"
            ]
          },
          "metadata": {},
          "execution_count": 134
        },
        {
          "output_type": "execute_result",
          "data": {
            "text/plain": [
              "((48000, 28, 28, 1), (48000,))"
            ]
          },
          "metadata": {},
          "execution_count": 169
        }
      ]
    },
    {
      "cell_type": "code",
      "source": [
        "X_val.shape, y_val.shape"
      ],
      "metadata": {
        "colab": {
          "base_uri": "https://localhost:8080/"
        },
        "id": "R6CL48eGYczj",
        "outputId": "6e3f9c43-1416-47ea-871d-22ce0daaa3a6"
      },
      "execution_count": null,
      "outputs": [
        {
          "output_type": "execute_result",
          "data": {
            "text/plain": [
              "((12000, 28, 28, 1), (12000,))"
            ]
          },
          "metadata": {},
          "execution_count": 135
        },
        {
          "output_type": "execute_result",
          "data": {
            "text/plain": [
              "((12000, 28, 28, 1), (12000,))"
            ]
          },
          "metadata": {},
          "execution_count": 170
        }
      ]
    },
    {
      "cell_type": "code",
      "source": [
        "X_test.shape, y_test.shape"
      ],
      "metadata": {
        "colab": {
          "base_uri": "https://localhost:8080/"
        },
        "id": "L6Gt5JF_ifhz",
        "outputId": "e2311910-eb59-4e9d-f119-1d145db3d13a"
      },
      "execution_count": null,
      "outputs": [
        {
          "output_type": "execute_result",
          "data": {
            "text/plain": [
              "((10000, 28, 28, 1), (10000,))"
            ]
          },
          "metadata": {},
          "execution_count": 136
        },
        {
          "output_type": "execute_result",
          "data": {
            "text/plain": [
              "((10000, 28, 28, 1), (10000,))"
            ]
          },
          "metadata": {},
          "execution_count": 171
        }
      ]
    },
    {
      "cell_type": "code",
      "source": [
        "# CONVOLUTIONAL NEURAL NETWORK - MODEL BUILDING"
      ],
      "metadata": {
        "id": "q1U7WD4hYjbT"
      },
      "execution_count": null,
      "outputs": []
    },
    {
      "cell_type": "markdown",
      "source": [
        "ARCHITECTURE:\n",
        "1. Input/Image\n",
        "2. First Convolutional layer\n",
        "3. Max pulling layer\n",
        "4. Flatten\n",
        "5. First input layer\n",
        "6. Last output layer"
      ],
      "metadata": {
        "id": "8zxzNmsbLSgl"
      }
    },
    {
      "cell_type": "code",
      "source": [
        "model = keras.models.Sequential([\n",
        "    keras.layers.Conv2D(filters = 32, kernel_size = 3, strides = (1,1), padding = 'valid',  activation = 'relu', input_shape = [28,28,1]),\n",
        "    # strides - how many columns to skip, padding - to add any extra column or row, relu - will give 0 for negative or 0 values.\n",
        "    keras.layers.MaxPooling2D(pool_size=(2,2)),\n",
        "    keras.layers.Flatten(),    #flatten all data into single vector\n",
        "    keras.layers.Dense(units = 128, activation = 'relu'),\n",
        "    keras.layers.Dense(units = 10, activation = 'softmax')\n",
        "])"
      ],
      "metadata": {
        "id": "BhJPYH98stfp"
      },
      "execution_count": null,
      "outputs": []
    },
    {
      "cell_type": "code",
      "source": [
        "model.summary()"
      ],
      "metadata": {
        "colab": {
          "base_uri": "https://localhost:8080/"
        },
        "id": "53nq4U9t1DYC",
        "outputId": "2e40e99f-59da-4df0-a9b1-7640773d0f60"
      },
      "execution_count": null,
      "outputs": [
        {
          "output_type": "stream",
          "name": "stdout",
          "text": [
            "Model: \"sequential_2\"\n",
            "_________________________________________________________________\n",
            " Layer (type)                Output Shape              Param #   \n",
            "=================================================================\n",
            " conv2d_2 (Conv2D)           (None, 26, 26, 32)        320       \n",
            "                                                                 \n",
            " max_pooling2d_2 (MaxPooling  (None, 13, 13, 32)       0         \n",
            " 2D)                                                             \n",
            "                                                                 \n",
            " flatten_2 (Flatten)         (None, 5408)              0         \n",
            "                                                                 \n",
            " dense_4 (Dense)             (None, 128)               692352    \n",
            "                                                                 \n",
            " dense_5 (Dense)             (None, 10)                1290      \n",
            "                                                                 \n",
            "=================================================================\n",
            "Total params: 693,962\n",
            "Trainable params: 693,962\n",
            "Non-trainable params: 0\n",
            "_________________________________________________________________\n",
            "Model: \"sequential_3\"\n",
            "_________________________________________________________________\n",
            " Layer (type)                Output Shape              Param #   \n",
            "=================================================================\n",
            " conv2d_3 (Conv2D)           (None, 26, 26, 32)        320       \n",
            "                                                                 \n",
            " max_pooling2d_3 (MaxPooling  (None, 13, 13, 32)       0         \n",
            " 2D)                                                             \n",
            "                                                                 \n",
            " flatten_3 (Flatten)         (None, 5408)              0         \n",
            "                                                                 \n",
            " dense_6 (Dense)             (None, 128)               692352    \n",
            "                                                                 \n",
            " dense_7 (Dense)             (None, 10)                1290      \n",
            "                                                                 \n",
            "=================================================================\n",
            "Total params: 693,962\n",
            "Trainable params: 693,962\n",
            "Non-trainable params: 0\n",
            "_________________________________________________________________\n"
          ]
        }
      ]
    },
    {
      "cell_type": "code",
      "source": [
        "model.compile(optimizer = 'adam', loss = 'sparse_categorical_crossentropy', metrics = 'accuracy')"
      ],
      "metadata": {
        "id": "SGV7haOC1NR9"
      },
      "execution_count": null,
      "outputs": []
    },
    {
      "cell_type": "code",
      "source": [
        "model.fit(X_train, y_train, epochs = 10, batch_size = 512, verbose = 1, validation_data = (X_val, y_val))\n",
        "# epochs - no. of times the data will get training; in this case 10.\n",
        "# batch_size = no. of image/samples per gradiant update.\n",
        "# verbose - 0= silent, 1= progress bar, 2 = one line per epoch.\n",
        "# validation_data - the data we had split will be entered here."
      ],
      "metadata": {
        "colab": {
          "base_uri": "https://localhost:8080/"
        },
        "id": "686qZMax1yLM",
        "outputId": "ed5a3b65-be25-4ac6-b1b5-e3c42507bcf9"
      },
      "execution_count": null,
      "outputs": [
        {
          "output_type": "stream",
          "name": "stdout",
          "text": [
            "Epoch 1/10\n",
            "94/94 [==============================] - 21s 219ms/step - loss: 10.0637 - accuracy: 0.7084 - val_loss: 0.7099 - val_accuracy: 0.8231\n",
            "Epoch 2/10\n",
            "94/94 [==============================] - 21s 221ms/step - loss: 0.5367 - accuracy: 0.8521 - val_loss: 0.5170 - val_accuracy: 0.8568\n",
            "Epoch 3/10\n",
            "94/94 [==============================] - 21s 223ms/step - loss: 0.4110 - accuracy: 0.8748 - val_loss: 0.4367 - val_accuracy: 0.8683\n",
            "Epoch 4/10\n",
            "94/94 [==============================] - 20s 212ms/step - loss: 0.3322 - accuracy: 0.8909 - val_loss: 0.4465 - val_accuracy: 0.8688\n",
            "Epoch 5/10\n",
            "94/94 [==============================] - 20s 214ms/step - loss: 0.2974 - accuracy: 0.9020 - val_loss: 0.4351 - val_accuracy: 0.8780\n",
            "Epoch 6/10\n",
            "94/94 [==============================] - 20s 212ms/step - loss: 0.2526 - accuracy: 0.9135 - val_loss: 0.4367 - val_accuracy: 0.8688\n",
            "Epoch 7/10\n",
            "94/94 [==============================] - 20s 213ms/step - loss: 0.2283 - accuracy: 0.9193 - val_loss: 0.4006 - val_accuracy: 0.8799\n",
            "Epoch 8/10\n",
            "94/94 [==============================] - 20s 213ms/step - loss: 0.2042 - accuracy: 0.9270 - val_loss: 0.3806 - val_accuracy: 0.8862\n",
            "Epoch 9/10\n",
            "94/94 [==============================] - 20s 214ms/step - loss: 0.1996 - accuracy: 0.9290 - val_loss: 0.3667 - val_accuracy: 0.8903\n",
            "Epoch 10/10\n",
            "94/94 [==============================] - 20s 213ms/step - loss: 0.1713 - accuracy: 0.9395 - val_loss: 0.3665 - val_accuracy: 0.8944\n"
          ]
        },
        {
          "output_type": "execute_result",
          "data": {
            "text/plain": [
              "<keras.callbacks.History at 0x7f9246c92f90>"
            ]
          },
          "metadata": {},
          "execution_count": 176
        }
      ]
    },
    {
      "cell_type": "code",
      "source": [
        "# Testing Model"
      ],
      "metadata": {
        "id": "mhqFhMOzmlDh"
      },
      "execution_count": null,
      "outputs": []
    },
    {
      "cell_type": "code",
      "source": [
        "model.predict(np.expand_dims(X_test[0], axis = 0)).round(2)"
      ],
      "metadata": {
        "colab": {
          "base_uri": "https://localhost:8080/"
        },
        "id": "8lJA9JMwpo3K",
        "outputId": "57350021-d1e9-46cc-fea0-1e51ce19e73d"
      },
      "execution_count": null,
      "outputs": [
        {
          "output_type": "stream",
          "name": "stdout",
          "text": [
            "1/1 [==============================] - 0s 24ms/step\n"
          ]
        },
        {
          "output_type": "execute_result",
          "data": {
            "text/plain": [
              "array([[0., 0., 0., 0., 0., 0., 0., 0., 0., 1.]], dtype=float32)"
            ]
          },
          "metadata": {},
          "execution_count": 185
        }
      ]
    },
    {
      "cell_type": "code",
      "source": [
        "np.argmax(model.predict(np.expand_dims(X_test[0],axis = 0)).round(2))"
      ],
      "metadata": {
        "colab": {
          "base_uri": "https://localhost:8080/"
        },
        "id": "XlPCZsvXp-yd",
        "outputId": "b6bf6651-a308-4360-c060-0d06e0e1e53d"
      },
      "execution_count": null,
      "outputs": [
        {
          "output_type": "stream",
          "name": "stdout",
          "text": [
            "1/1 [==============================] - 0s 22ms/step\n"
          ]
        },
        {
          "output_type": "execute_result",
          "data": {
            "text/plain": [
              "9"
            ]
          },
          "metadata": {},
          "execution_count": 179
        }
      ]
    },
    {
      "cell_type": "code",
      "source": [
        "y_test[0]"
      ],
      "metadata": {
        "colab": {
          "base_uri": "https://localhost:8080/"
        },
        "id": "TVz3IClYswDB",
        "outputId": "a0200c8f-a630-4d17-b71c-ca87a60e3a80"
      },
      "execution_count": null,
      "outputs": [
        {
          "output_type": "execute_result",
          "data": {
            "text/plain": [
              "9"
            ]
          },
          "metadata": {},
          "execution_count": 180
        }
      ]
    },
    {
      "cell_type": "code",
      "source": [
        "y_test"
      ],
      "metadata": {
        "colab": {
          "base_uri": "https://localhost:8080/"
        },
        "id": "lwvzqJFDJ0tI",
        "outputId": "368902ff-4f97-4b88-c2e0-8c92f5af14ec"
      },
      "execution_count": null,
      "outputs": [
        {
          "output_type": "execute_result",
          "data": {
            "text/plain": [
              "array([9, 2, 1, ..., 8, 1, 5], dtype=uint8)"
            ]
          },
          "metadata": {},
          "execution_count": 181
        }
      ]
    },
    {
      "cell_type": "code",
      "source": [
        "y_pred = model.predict(X_test)\n",
        "y_pred.round(2)"
      ],
      "metadata": {
        "colab": {
          "base_uri": "https://localhost:8080/"
        },
        "id": "6SmFsXqlszVu",
        "outputId": "5c77f15f-bde1-4829-f4c0-3e8196316f2d"
      },
      "execution_count": null,
      "outputs": [
        {
          "output_type": "stream",
          "name": "stdout",
          "text": [
            "313/313 [==============================] - 2s 8ms/step\n"
          ]
        },
        {
          "output_type": "execute_result",
          "data": {
            "text/plain": [
              "array([[0.  , 0.  , 0.  , ..., 0.  , 0.  , 1.  ],\n",
              "       [0.  , 0.  , 1.  , ..., 0.  , 0.  , 0.  ],\n",
              "       [0.  , 1.  , 0.  , ..., 0.  , 0.  , 0.  ],\n",
              "       ...,\n",
              "       [0.  , 0.  , 0.  , ..., 0.  , 1.  , 0.  ],\n",
              "       [0.  , 1.  , 0.  , ..., 0.  , 0.  , 0.  ],\n",
              "       [0.  , 0.  , 0.  , ..., 0.05, 0.  , 0.  ]], dtype=float32)"
            ]
          },
          "metadata": {},
          "execution_count": 186
        }
      ]
    },
    {
      "cell_type": "code",
      "source": [
        "model.evaluate(X_test, y_test)"
      ],
      "metadata": {
        "colab": {
          "base_uri": "https://localhost:8080/"
        },
        "id": "z8u9uXKkhzBE",
        "outputId": "9f5d3067-b838-432f-c941-17373bc5191f"
      },
      "execution_count": null,
      "outputs": [
        {
          "output_type": "stream",
          "name": "stdout",
          "text": [
            "313/313 [==============================] - 3s 8ms/step - loss: 0.3839 - accuracy: 0.8852\n"
          ]
        },
        {
          "output_type": "execute_result",
          "data": {
            "text/plain": [
              "[0.3839433193206787, 0.885200023651123]"
            ]
          },
          "metadata": {},
          "execution_count": 183
        }
      ]
    },
    {
      "cell_type": "code",
      "source": [
        "plt.figure(figsize=(16,30))\n",
        "\n",
        "j=1\n",
        "for i in np.random.randint(0, 1000, 60):\n",
        "  plt.subplot(10, 6, j); j+=1\n",
        "  plt.imshow(X_test[i].reshape(28,28), cmap='Greys')\n",
        "  plt.axis('off')\n",
        "  plt.title('Actual = {} / {} \\nPredicted = {} / {}'.format(class_labels[y_test[i]],y_test[i], class_labels[np.argmax(y_pred[i])], np.argmax(y_pred[i])))"
      ],
      "metadata": {
        "colab": {
          "base_uri": "https://localhost:8080/",
          "height": 1000
        },
        "id": "zdmhsFniheC3",
        "outputId": "b5a6dc14-f5b5-4455-fd1c-3a1c494b9fc7"
      },
      "execution_count": null,
      "outputs": [
        {
          "output_type": "display_data",
          "data": {
            "text/plain": [
              "<Figure size 1152x2160 with 60 Axes>"
            ],
            "image/png": "[encoded data removed]"
          },
          "metadata": {
            "needs_background": "light"
          }
        }
      ]
    },
    {
      "cell_type": "code",
      "source": [
        "# Confustion Matrix"
      ],
      "metadata": {
        "id": "wNG65TzweAou"
      },
      "execution_count": null,
      "outputs": []
    },
    {
      "cell_type": "code",
      "source": [
        "from sklearn.metrics import confusion_matrix\n",
        "\n",
        "plt.figure(figsize = (16,9))\n",
        "y_pred_labels = [np.argmax(label) for label in y_pred]   # we find the single level value from single image of the 10th neuron prediction value(y_pred)\n",
        "cm = confusion_matrix(y_test, y_pred_labels)"
      ],
      "metadata": {
        "colab": {
          "base_uri": "https://localhost:8080/",
          "height": 35
        },
        "id": "8XUuYJsY0P-d",
        "outputId": "e0a4f0a7-4037-4479-ee81-ec66a417cfce"
      },
      "execution_count": null,
      "outputs": [
        {
          "output_type": "display_data",
          "data": {
            "text/plain": [
              "<Figure size 1152x648 with 0 Axes>"
            ]
          },
          "metadata": {}
        }
      ]
    },
    {
      "cell_type": "code",
      "source": [
        "# show cm\n",
        "sns.heatmap(cm, annot = True, fmt = 'd', xticklabels = class_labels, yticklabels = class_labels)\n",
        "# annot-value should be above box, fmt - decimel, xticklabels- label on x axis and vice versa"
      ],
      "metadata": {
        "colab": {
          "base_uri": "https://localhost:8080/",
          "height": 327
        },
        "id": "C3cIUxmL0mMR",
        "outputId": "52caa68c-7f5f-4399-b242-74d2c060b982"
      },
      "execution_count": null,
      "outputs": [
        {
          "output_type": "execute_result",
          "data": {
            "text/plain": [
              "<matplotlib.axes._subplots.AxesSubplot at 0x7f923f8abfd0>"
            ]
          },
          "metadata": {},
          "execution_count": 188
        },
        {
          "output_type": "display_data",
          "data": {
            "text/plain": [
              "<Figure size 432x288 with 2 Axes>"
            ],
            "image/png": "[encoded data removed]"
          },
          "metadata": {
            "needs_background": "light"
          }
        }
      ]
    },
    {
      "cell_type": "markdown",
      "source": [
        "E.g. : TP for T-shirt above is 902 and FP is 2,14,21....."
      ],
      "metadata": {
        "id": "dVh7obWdD4zZ"
      }
    },
    {
      "cell_type": "markdown",
      "source": [
        "##### Rows values are actual values\n",
        "Column values are the predicted values\n",
        "##### Precision = TP/(TP + FP)\n",
        "##### Recall = TP/(TP + FN)\n",
        "TP-True positive, FP-False positive, FN-False negative\n",
        "\n"
      ],
      "metadata": {
        "id": "YINpXlTSCTny"
      }
    },
    {
      "cell_type": "code",
      "source": [
        "from sklearn.metrics import classification_report\n",
        "cr = classification_report(y_test, y_pred_labels, target_names = class_labels)\n",
        "print(cr)"
      ],
      "metadata": {
        "colab": {
          "base_uri": "https://localhost:8080/"
        },
        "id": "TwrSNrSoDS40",
        "outputId": "5914e71e-0ca5-4b15-d51d-133c7b922950"
      },
      "execution_count": null,
      "outputs": [
        {
          "output_type": "stream",
          "name": "stdout",
          "text": [
            "              precision    recall  f1-score   support\n",
            "\n",
            " T-shirt/top       0.77      0.90      0.83      1000\n",
            "     Trouser       0.98      0.98      0.98      1000\n",
            "    Pullover       0.82      0.82      0.82      1000\n",
            "       Dress       0.86      0.90      0.88      1000\n",
            "        Coat       0.81      0.82      0.82      1000\n",
            "      Sandal       0.96      0.98      0.97      1000\n",
            "       Shirt       0.76      0.59      0.66      1000\n",
            "     Sneaker       0.96      0.94      0.95      1000\n",
            "         Bag       0.96      0.96      0.96      1000\n",
            "  Ankle boot       0.95      0.96      0.96      1000\n",
            "\n",
            "    accuracy                           0.89     10000\n",
            "   macro avg       0.88      0.89      0.88     10000\n",
            "weighted avg       0.88      0.89      0.88     10000\n",
            "\n"
          ]
        }
      ]
    },
    {
      "cell_type": "code",
      "source": [
        "# Saving model"
      ],
      "metadata": {
        "id": "h24SNftHFSpc"
      },
      "execution_count": null,
      "outputs": []
    },
    {
      "cell_type": "markdown",
      "source": [
        "##### model name.save(path)\n",
        "If u need to save it in google colab only then, just write the name of the model in the ( )\n",
        "##### If you want to save your project in google drive then, follow the same step as above and then in the folder region click on the drive icon and mout your file in google drive."
      ],
      "metadata": {
        "id": "aZnfFLTcF2WP"
      }
    },
    {
      "cell_type": "code",
      "source": [
        "model.save('Fashion_MNIST_Classification.h5')  # h5 is an extension here"
      ],
      "metadata": {
        "id": "XOGAJc9iFUax"
      },
      "execution_count": null,
      "outputs": []
    },
    {
      "cell_type": "code",
      "source": [
        "# for saving in google drive\n",
        "path = '/content/drive/MyDrive/Fashion_MNIST_Classification.h5'\n",
        "model.save(path)"
      ],
      "metadata": {
        "id": "MU020cFBHQUw"
      },
      "execution_count": null,
      "outputs": []
    },
    {
      "cell_type": "code",
      "source": [
        "# Deployment (in google colab)"
      ],
      "metadata": {
        "id": "mxSFwDiTJFYr"
      },
      "execution_count": null,
      "outputs": []
    },
    {
      "cell_type": "code",
      "source": [
        "#loading model\n",
        "model_deploy = keras.models.load_model('Fashion_MNIST_Classification.h5')"
      ],
      "metadata": {
        "id": "yhJ4AI2-IBo6"
      },
      "execution_count": null,
      "outputs": []
    },
    {
      "cell_type": "code",
      "source": [
        "# checking working\n",
        "model_deploy.predict(X_test).round(2)"
      ],
      "metadata": {
        "colab": {
          "base_uri": "https://localhost:8080/"
        },
        "id": "fuYhCQ6KITJ2",
        "outputId": "d443888a-3b56-46a2-ecaf-63233b5c475c"
      },
      "execution_count": null,
      "outputs": [
        {
          "output_type": "stream",
          "name": "stdout",
          "text": [
            "313/313 [==============================] - 3s 8ms/step\n"
          ]
        },
        {
          "output_type": "execute_result",
          "data": {
            "text/plain": [
              "array([[0.  , 0.  , 0.  , ..., 0.  , 0.  , 1.  ],\n",
              "       [0.  , 0.  , 1.  , ..., 0.  , 0.  , 0.  ],\n",
              "       [0.  , 1.  , 0.  , ..., 0.  , 0.  , 0.  ],\n",
              "       ...,\n",
              "       [0.  , 0.  , 0.  , ..., 0.  , 1.  , 0.  ],\n",
              "       [0.  , 1.  , 0.  , ..., 0.  , 0.  , 0.  ],\n",
              "       [0.  , 0.  , 0.  , ..., 0.05, 0.  , 0.  ]], dtype=float32)"
            ]
          },
          "metadata": {},
          "execution_count": 195
        }
      ]
    },
    {
      "cell_type": "code",
      "source": [
        "model_deploy.predict(np.expand_dims(X_test[0], axis  = 0)).round(2)"
      ],
      "metadata": {
        "colab": {
          "base_uri": "https://localhost:8080/"
        },
        "id": "fv_g0Np9Iknp",
        "outputId": "c2a03363-c09e-4c71-f593-1e74db3fddc5"
      },
      "execution_count": null,
      "outputs": [
        {
          "output_type": "stream",
          "name": "stdout",
          "text": [
            "1/1 [==============================] - 0s 29ms/step\n"
          ]
        },
        {
          "output_type": "execute_result",
          "data": {
            "text/plain": [
              "array([[0., 0., 0., 0., 0., 0., 0., 0., 0., 1.]], dtype=float32)"
            ]
          },
          "metadata": {},
          "execution_count": 197
        }
      ]
    },
    {
      "cell_type": "code",
      "source": [
        "np.argmax(model_deploy.predict(np.expand_dims(X_test[0], axis  = 0)))"
      ],
      "metadata": {
        "colab": {
          "base_uri": "https://localhost:8080/"
        },
        "id": "BVfa8XdFI0YB",
        "outputId": "1dd052f6-eac7-4570-8127-54f49aa84f63"
      },
      "execution_count": null,
      "outputs": [
        {
          "output_type": "stream",
          "name": "stdout",
          "text": [
            "1/1 [==============================] - 0s 26ms/step\n"
          ]
        },
        {
          "output_type": "execute_result",
          "data": {
            "text/plain": [
              "9"
            ]
          },
          "metadata": {},
          "execution_count": 198
        }
      ]
    },
    {
      "cell_type": "code",
      "source": [
        "# BUILDING COMPLEX MODEL"
      ],
      "metadata": {
        "id": "YLvRnftFI3lm"
      },
      "execution_count": null,
      "outputs": []
    },
    {
      "cell_type": "code",
      "source": [
        "# Building a complex model"
      ],
      "metadata": {
        "id": "0FZGUergOfuA"
      },
      "execution_count": null,
      "outputs": []
    },
    {
      "cell_type": "markdown",
      "source": [
        "To make a CNN complex, we just need to add as many new layers as we can."
      ],
      "metadata": {
        "id": "IdON77lNKTra"
      }
    },
    {
      "cell_type": "markdown",
      "source": [
        "ARCHITECTURE:\n",
        "1. Input/Image\n",
        "2. First Convolutional layer\n",
        "3. First max pulling layer\n",
        "4. Second convolutional layer\n",
        "5. Second max pulling layer\n",
        "6. Flatten\n",
        "7. First input layer\n",
        "8. First hidden layer\n",
        "9. Second hidden layer\n",
        "10. Last output layer"
      ],
      "metadata": {
        "id": "ydxjrx7MLtpB"
      }
    },
    {
      "cell_type": "code",
      "source": [
        "model_2 = keras.models.Sequential([\n",
        "                         keras.layers.Conv2D(filters=32, kernel_size=3, strides=(1,1), padding='valid',activation= 'relu', input_shape=[28,28,1]),\n",
        "                         keras.layers.MaxPooling2D(pool_size=(2,2)),\n",
        "                         keras.layers.Conv2D(filters=64, kernel_size=3, strides=(2,2), padding='same', activation='relu'),\n",
        "                         keras.layers.MaxPooling2D(pool_size=(2,2)),\n",
        "                         keras.layers.Flatten(),\n",
        "                         keras.layers.Dense(units=128, activation='relu'),   #first input layer\n",
        "                         keras.layers.Dropout(0.25),        # this will regularize our model\n",
        "                         keras.layers.Dense(units=256, activation='relu'),   # first hidden layer\n",
        "                         keras.layers.Dropout(0.25),\n",
        "                         keras.layers.Dense(units=128, activation='relu'),    # second hidden layer\n",
        "                         keras.layers.Dense(units=10, activation='softmax')    #last output layer\n",
        "                         ])"
      ],
      "metadata": {
        "id": "Qw2jGmnUJzDC"
      },
      "execution_count": null,
      "outputs": []
    },
    {
      "cell_type": "code",
      "source": [
        "#compiling model\n",
        "model_2.compile(optimizer = 'adam', loss = 'sparse_categorical_crossentropy', metrics = ['accuracy'])"
      ],
      "metadata": {
        "id": "xbfvoCrxMPl1"
      },
      "execution_count": null,
      "outputs": []
    },
    {
      "cell_type": "code",
      "source": [
        "# Training model\n",
        "model_2.fit(X_train, y_train, epochs = 20, batch_size = 512, verbose = 1, validation_data = (X_val, y_val))"
      ],
      "metadata": {
        "colab": {
          "base_uri": "https://localhost:8080/"
        },
        "id": "OPKrglIzMmEW",
        "outputId": "c515bb8c-d536-4a26-d0ca-4b6d7f9b3efe"
      },
      "execution_count": null,
      "outputs": [
        {
          "output_type": "stream",
          "name": "stdout",
          "text": [
            "Epoch 1/20\n",
            "94/94 [==============================] - 28s 280ms/step - loss: 2.0244 - accuracy: 0.5850 - val_loss: 0.5536 - val_accuracy: 0.7957\n",
            "Epoch 2/20\n",
            "94/94 [==============================] - 27s 291ms/step - loss: 0.5929 - accuracy: 0.7799 - val_loss: 0.4583 - val_accuracy: 0.8322\n",
            "Epoch 3/20\n",
            "94/94 [==============================] - 34s 361ms/step - loss: 0.4972 - accuracy: 0.8182 - val_loss: 0.4096 - val_accuracy: 0.8479\n",
            "Epoch 4/20\n",
            "94/94 [==============================] - 26s 278ms/step - loss: 0.4455 - accuracy: 0.8365 - val_loss: 0.3908 - val_accuracy: 0.8560\n",
            "Epoch 5/20\n",
            "94/94 [==============================] - 26s 276ms/step - loss: 0.4086 - accuracy: 0.8485 - val_loss: 0.3901 - val_accuracy: 0.8566\n",
            "Epoch 6/20\n",
            "94/94 [==============================] - 26s 275ms/step - loss: 0.3891 - accuracy: 0.8569 - val_loss: 0.3651 - val_accuracy: 0.8667\n",
            "Epoch 7/20\n",
            "94/94 [==============================] - 26s 277ms/step - loss: 0.3628 - accuracy: 0.8672 - val_loss: 0.3491 - val_accuracy: 0.8727\n",
            "Epoch 8/20\n",
            "94/94 [==============================] - 27s 290ms/step - loss: 0.3466 - accuracy: 0.8720 - val_loss: 0.3381 - val_accuracy: 0.8772\n",
            "Epoch 9/20\n",
            "94/94 [==============================] - 27s 291ms/step - loss: 0.3273 - accuracy: 0.8780 - val_loss: 0.3395 - val_accuracy: 0.8765\n",
            "Epoch 10/20\n",
            "94/94 [==============================] - 27s 283ms/step - loss: 0.3174 - accuracy: 0.8823 - val_loss: 0.3375 - val_accuracy: 0.8778\n",
            "Epoch 11/20\n",
            "94/94 [==============================] - 26s 277ms/step - loss: 0.3030 - accuracy: 0.8867 - val_loss: 0.3328 - val_accuracy: 0.8786\n",
            "Epoch 12/20\n",
            "94/94 [==============================] - 26s 276ms/step - loss: 0.2928 - accuracy: 0.8896 - val_loss: 0.3185 - val_accuracy: 0.8838\n",
            "Epoch 13/20\n",
            "94/94 [==============================] - 26s 278ms/step - loss: 0.2803 - accuracy: 0.8943 - val_loss: 0.3081 - val_accuracy: 0.8882\n",
            "Epoch 14/20\n",
            "94/94 [==============================] - 26s 277ms/step - loss: 0.2743 - accuracy: 0.8991 - val_loss: 0.3172 - val_accuracy: 0.8875\n",
            "Epoch 15/20\n",
            "94/94 [==============================] - 26s 280ms/step - loss: 0.2653 - accuracy: 0.9009 - val_loss: 0.3123 - val_accuracy: 0.8875\n",
            "Epoch 16/20\n",
            "94/94 [==============================] - 34s 358ms/step - loss: 0.2573 - accuracy: 0.9039 - val_loss: 0.3041 - val_accuracy: 0.8924\n",
            "Epoch 17/20\n",
            "94/94 [==============================] - 40s 431ms/step - loss: 0.2462 - accuracy: 0.9063 - val_loss: 0.3037 - val_accuracy: 0.8903\n",
            "Epoch 18/20\n",
            "94/94 [==============================] - 34s 361ms/step - loss: 0.2480 - accuracy: 0.9071 - val_loss: 0.3083 - val_accuracy: 0.8905\n",
            "Epoch 19/20\n",
            "94/94 [==============================] - 27s 289ms/step - loss: 0.2394 - accuracy: 0.9094 - val_loss: 0.3125 - val_accuracy: 0.8903\n",
            "Epoch 20/20\n",
            "94/94 [==============================] - 30s 315ms/step - loss: 0.2274 - accuracy: 0.9141 - val_loss: 0.2999 - val_accuracy: 0.8949\n"
          ]
        },
        {
          "output_type": "execute_result",
          "data": {
            "text/plain": [
              "<keras.callbacks.History at 0x7f923b5c8f90>"
            ]
          },
          "metadata": {},
          "execution_count": 203
        }
      ]
    },
    {
      "cell_type": "code",
      "source": [
        "model_2.evaluate(X_test, y_test)"
      ],
      "metadata": {
        "colab": {
          "base_uri": "https://localhost:8080/"
        },
        "id": "DRV8rsxvNNik",
        "outputId": "615e9f81-1584-485c-87af-3effb9b53150"
      },
      "execution_count": null,
      "outputs": [
        {
          "output_type": "stream",
          "name": "stdout",
          "text": [
            "313/313 [==============================] - 3s 9ms/step - loss: 0.3171 - accuracy: 0.8905\n"
          ]
        },
        {
          "output_type": "execute_result",
          "data": {
            "text/plain": [
              "[0.3171442151069641, 0.890500009059906]"
            ]
          },
          "metadata": {},
          "execution_count": 204
        }
      ]
    },
    {
      "cell_type": "code",
      "source": [
        "# saving model\n",
        "model_2.save('fashion_mnist_model2.h5')"
      ],
      "metadata": {
        "id": "949oDjpwPjBM"
      },
      "execution_count": null,
      "outputs": []
    },
    {
      "cell_type": "code",
      "source": [
        "# Building a very complex model"
      ],
      "metadata": {
        "id": "j6dYydaZN-Vz"
      },
      "execution_count": null,
      "outputs": []
    },
    {
      "cell_type": "code",
      "source": [
        "model_3 = keras.models.Sequential([\n",
        "                         keras.layers.Conv2D(filters=64, kernel_size=3, strides=(1,1), padding='valid',activation= 'relu', input_shape=[28,28,1]),\n",
        "                         keras.layers.MaxPooling2D(pool_size=(2,2)),\n",
        "                         keras.layers.Conv2D(filters=128, kernel_size=3, strides=(2,2), padding='same', activation='relu'),\n",
        "                         keras.layers.MaxPooling2D(pool_size=(2,2)),\n",
        "                         keras.layers.Conv2D(filters=64, kernel_size=3, strides=(2,2), padding='same', activation='relu'),\n",
        "                         keras.layers.MaxPooling2D(pool_size=(2,2)),\n",
        "                         keras.layers.Flatten(),\n",
        "                         keras.layers.Dense(units=128, activation='relu'),\n",
        "                         keras.layers.Dropout(0.25),\n",
        "                         keras.layers.Dense(units=256, activation='relu'),\n",
        "                         keras.layers.Dropout(0.5),\n",
        "                         keras.layers.Dense(units=256, activation='relu'),\n",
        "                         keras.layers.Dropout(0.25),\n",
        "                         keras.layers.Dense(units=128, activation='relu'),\n",
        "                         keras.layers.Dropout(0.10),\n",
        "                         keras.layers.Dense(units=10, activation='softmax')\n",
        "                         ])"
      ],
      "metadata": {
        "id": "aQ1eqDsoOlqU"
      },
      "execution_count": null,
      "outputs": []
    },
    {
      "cell_type": "code",
      "source": [
        "# compiling model\n",
        "model_3.compile(optimizer = 'adam', loss = 'sparse_categorical_crossentropy', metrics = ['accuracy'])"
      ],
      "metadata": {
        "id": "o6FzSx33OqnA"
      },
      "execution_count": null,
      "outputs": []
    },
    {
      "cell_type": "code",
      "source": [
        "# Training model\n",
        "model_3.fit(X_train, y_train, epochs = 50, batch_size = 512, verbose = 1, validation_data = (X_val, y_val))"
      ],
      "metadata": {
        "colab": {
          "base_uri": "https://localhost:8080/"
        },
        "id": "3xTAcOVUOyrt",
        "outputId": "55315b76-63c8-479e-ac5d-5e883072c851"
      },
      "execution_count": null,
      "outputs": [
        {
          "output_type": "stream",
          "name": "stdout",
          "text": [
            "Epoch 1/50\n",
            "94/94 [==============================] - 73s 770ms/step - loss: 1.2919 - accuracy: 0.5514 - val_loss: 0.5764 - val_accuracy: 0.7837\n",
            "Epoch 2/50\n",
            "94/94 [==============================] - 60s 633ms/step - loss: 0.5764 - accuracy: 0.7871 - val_loss: 0.4490 - val_accuracy: 0.8361\n",
            "Epoch 3/50\n",
            "94/94 [==============================] - 57s 611ms/step - loss: 0.4716 - accuracy: 0.8316 - val_loss: 0.3966 - val_accuracy: 0.8568\n",
            "Epoch 4/50\n",
            "94/94 [==============================] - 56s 595ms/step - loss: 0.4100 - accuracy: 0.8531 - val_loss: 0.3640 - val_accuracy: 0.8700\n",
            "Epoch 5/50\n",
            "94/94 [==============================] - 57s 612ms/step - loss: 0.3667 - accuracy: 0.8703 - val_loss: 0.3423 - val_accuracy: 0.8785\n",
            "Epoch 6/50\n",
            "94/94 [==============================] - 56s 598ms/step - loss: 0.3392 - accuracy: 0.8801 - val_loss: 0.3199 - val_accuracy: 0.8851\n",
            "Epoch 7/50\n",
            "94/94 [==============================] - 56s 598ms/step - loss: 0.3138 - accuracy: 0.8885 - val_loss: 0.3400 - val_accuracy: 0.8727\n",
            "Epoch 8/50\n",
            "94/94 [==============================] - 56s 598ms/step - loss: 0.2968 - accuracy: 0.8951 - val_loss: 0.3173 - val_accuracy: 0.8916\n",
            "Epoch 9/50\n",
            "94/94 [==============================] - 56s 598ms/step - loss: 0.2776 - accuracy: 0.9014 - val_loss: 0.3064 - val_accuracy: 0.8895\n",
            "Epoch 10/50\n",
            "94/94 [==============================] - 56s 594ms/step - loss: 0.2649 - accuracy: 0.9060 - val_loss: 0.2925 - val_accuracy: 0.9003\n",
            "Epoch 11/50\n",
            "94/94 [==============================] - 56s 595ms/step - loss: 0.2616 - accuracy: 0.9087 - val_loss: 0.3087 - val_accuracy: 0.8908\n",
            "Epoch 12/50\n",
            "94/94 [==============================] - 56s 597ms/step - loss: 0.2446 - accuracy: 0.9131 - val_loss: 0.2944 - val_accuracy: 0.8956\n",
            "Epoch 13/50\n",
            "94/94 [==============================] - 56s 594ms/step - loss: 0.2361 - accuracy: 0.9153 - val_loss: 0.3020 - val_accuracy: 0.8973\n",
            "Epoch 14/50\n",
            "94/94 [==============================] - 56s 595ms/step - loss: 0.2271 - accuracy: 0.9181 - val_loss: 0.3106 - val_accuracy: 0.8926\n",
            "Epoch 15/50\n",
            "94/94 [==============================] - 56s 594ms/step - loss: 0.2171 - accuracy: 0.9211 - val_loss: 0.2981 - val_accuracy: 0.8986\n",
            "Epoch 16/50\n",
            "94/94 [==============================] - 56s 594ms/step - loss: 0.2043 - accuracy: 0.9270 - val_loss: 0.2990 - val_accuracy: 0.9001\n",
            "Epoch 17/50\n",
            "94/94 [==============================] - 56s 594ms/step - loss: 0.2003 - accuracy: 0.9285 - val_loss: 0.2841 - val_accuracy: 0.9031\n",
            "Epoch 18/50\n",
            "94/94 [==============================] - 56s 601ms/step - loss: 0.1916 - accuracy: 0.9311 - val_loss: 0.3000 - val_accuracy: 0.8987\n",
            "Epoch 19/50\n",
            "94/94 [==============================] - 56s 593ms/step - loss: 0.1853 - accuracy: 0.9342 - val_loss: 0.2966 - val_accuracy: 0.9022\n",
            "Epoch 20/50\n",
            "94/94 [==============================] - 56s 591ms/step - loss: 0.1768 - accuracy: 0.9365 - val_loss: 0.3003 - val_accuracy: 0.9022\n",
            "Epoch 21/50\n",
            "94/94 [==============================] - 55s 587ms/step - loss: 0.1679 - accuracy: 0.9395 - val_loss: 0.3320 - val_accuracy: 0.8933\n",
            "Epoch 22/50\n",
            "94/94 [==============================] - 55s 587ms/step - loss: 0.1663 - accuracy: 0.9400 - val_loss: 0.3158 - val_accuracy: 0.9013\n",
            "Epoch 23/50\n",
            "94/94 [==============================] - 55s 588ms/step - loss: 0.1602 - accuracy: 0.9427 - val_loss: 0.3072 - val_accuracy: 0.9020\n",
            "Epoch 24/50\n",
            "94/94 [==============================] - 55s 586ms/step - loss: 0.1559 - accuracy: 0.9424 - val_loss: 0.3272 - val_accuracy: 0.9003\n",
            "Epoch 25/50\n",
            "94/94 [==============================] - 55s 586ms/step - loss: 0.1516 - accuracy: 0.9447 - val_loss: 0.3292 - val_accuracy: 0.8982\n",
            "Epoch 26/50\n",
            "94/94 [==============================] - 55s 584ms/step - loss: 0.1499 - accuracy: 0.9462 - val_loss: 0.3459 - val_accuracy: 0.8941\n",
            "Epoch 27/50\n",
            "94/94 [==============================] - 55s 585ms/step - loss: 0.1391 - accuracy: 0.9498 - val_loss: 0.3359 - val_accuracy: 0.8987\n",
            "Epoch 28/50\n",
            "94/94 [==============================] - 55s 585ms/step - loss: 0.1348 - accuracy: 0.9516 - val_loss: 0.3397 - val_accuracy: 0.8993\n",
            "Epoch 29/50\n",
            "94/94 [==============================] - 55s 585ms/step - loss: 0.1371 - accuracy: 0.9495 - val_loss: 0.3432 - val_accuracy: 0.9005\n",
            "Epoch 30/50\n",
            "94/94 [==============================] - 55s 587ms/step - loss: 0.1248 - accuracy: 0.9539 - val_loss: 0.3692 - val_accuracy: 0.8979\n",
            "Epoch 31/50\n",
            "94/94 [==============================] - 55s 585ms/step - loss: 0.1242 - accuracy: 0.9553 - val_loss: 0.3594 - val_accuracy: 0.9001\n",
            "Epoch 32/50\n",
            "94/94 [==============================] - 55s 584ms/step - loss: 0.1189 - accuracy: 0.9578 - val_loss: 0.3754 - val_accuracy: 0.9010\n",
            "Epoch 33/50\n",
            "94/94 [==============================] - 55s 584ms/step - loss: 0.1133 - accuracy: 0.9579 - val_loss: 0.3836 - val_accuracy: 0.8994\n",
            "Epoch 34/50\n",
            "94/94 [==============================] - 55s 584ms/step - loss: 0.1171 - accuracy: 0.9576 - val_loss: 0.3823 - val_accuracy: 0.8981\n",
            "Epoch 35/50\n",
            "94/94 [==============================] - 55s 590ms/step - loss: 0.1135 - accuracy: 0.9600 - val_loss: 0.3844 - val_accuracy: 0.8973\n",
            "Epoch 36/50\n",
            "94/94 [==============================] - 55s 585ms/step - loss: 0.1032 - accuracy: 0.9623 - val_loss: 0.4015 - val_accuracy: 0.9018\n",
            "Epoch 37/50\n",
            "94/94 [==============================] - 55s 587ms/step - loss: 0.1026 - accuracy: 0.9634 - val_loss: 0.4097 - val_accuracy: 0.9017\n",
            "Epoch 38/50\n",
            "94/94 [==============================] - 55s 586ms/step - loss: 0.1038 - accuracy: 0.9631 - val_loss: 0.4008 - val_accuracy: 0.9012\n",
            "Epoch 39/50\n",
            "94/94 [==============================] - 55s 587ms/step - loss: 0.0965 - accuracy: 0.9665 - val_loss: 0.4455 - val_accuracy: 0.8938\n",
            "Epoch 40/50\n",
            "94/94 [==============================] - 55s 587ms/step - loss: 0.0973 - accuracy: 0.9652 - val_loss: 0.4058 - val_accuracy: 0.9016\n",
            "Epoch 41/50\n",
            "94/94 [==============================] - 55s 582ms/step - loss: 0.0847 - accuracy: 0.9694 - val_loss: 0.4424 - val_accuracy: 0.8965\n",
            "Epoch 42/50\n",
            "94/94 [==============================] - 55s 582ms/step - loss: 0.0967 - accuracy: 0.9663 - val_loss: 0.4020 - val_accuracy: 0.9011\n",
            "Epoch 43/50\n",
            "94/94 [==============================] - 55s 583ms/step - loss: 0.0858 - accuracy: 0.9693 - val_loss: 0.4272 - val_accuracy: 0.9007\n",
            "Epoch 44/50\n",
            "94/94 [==============================] - 55s 583ms/step - loss: 0.0824 - accuracy: 0.9711 - val_loss: 0.4673 - val_accuracy: 0.9022\n",
            "Epoch 45/50\n",
            "94/94 [==============================] - 55s 584ms/step - loss: 0.0828 - accuracy: 0.9702 - val_loss: 0.4601 - val_accuracy: 0.8933\n",
            "Epoch 46/50\n",
            "94/94 [==============================] - 55s 583ms/step - loss: 0.0805 - accuracy: 0.9718 - val_loss: 0.4147 - val_accuracy: 0.8974\n",
            "Epoch 47/50\n",
            "94/94 [==============================] - 55s 582ms/step - loss: 0.0781 - accuracy: 0.9720 - val_loss: 0.4724 - val_accuracy: 0.8988\n",
            "Epoch 48/50\n",
            "94/94 [==============================] - 55s 584ms/step - loss: 0.0695 - accuracy: 0.9752 - val_loss: 0.4901 - val_accuracy: 0.8983\n",
            "Epoch 49/50\n",
            "94/94 [==============================] - 55s 581ms/step - loss: 0.0748 - accuracy: 0.9743 - val_loss: 0.4629 - val_accuracy: 0.8965\n",
            "Epoch 50/50\n",
            "94/94 [==============================] - 55s 582ms/step - loss: 0.0835 - accuracy: 0.9710 - val_loss: 0.4422 - val_accuracy: 0.9028\n"
          ]
        },
        {
          "output_type": "execute_result",
          "data": {
            "text/plain": [
              "<keras.callbacks.History at 0x7f9244bf8150>"
            ]
          },
          "metadata": {},
          "execution_count": 207
        }
      ]
    },
    {
      "cell_type": "code",
      "source": [
        "model_3.evaluate(X_test, y_test)"
      ],
      "metadata": {
        "colab": {
          "base_uri": "https://localhost:8080/"
        },
        "id": "MMTWo_GdPFKH",
        "outputId": "0f3c2888-27af-4310-ef53-f98e9c1e1c18"
      },
      "execution_count": null,
      "outputs": [
        {
          "output_type": "stream",
          "name": "stdout",
          "text": [
            "313/313 [==============================] - 5s 14ms/step - loss: 0.4579 - accuracy: 0.9011\n"
          ]
        },
        {
          "output_type": "execute_result",
          "data": {
            "text/plain": [
              "[0.45794564485549927, 0.9010999798774719]"
            ]
          },
          "metadata": {},
          "execution_count": 208
        }
      ]
    },
    {
      "cell_type": "code",
      "source": [
        "# saving model\n",
        "model_3.save('fashion_mnist_model3.h5')"
      ],
      "metadata": {
        "id": "gg10t2TuPK-T"
      },
      "execution_count": null,
      "outputs": []
    }
  ]
}